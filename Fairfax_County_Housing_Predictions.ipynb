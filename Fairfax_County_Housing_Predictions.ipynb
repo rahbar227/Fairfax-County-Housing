{
 "cells": [
  {
   "cell_type": "markdown",
   "metadata": {},
   "source": [
    "<font size='6'> Fairfax County Housing Values </font> <br style = 'line-height: 50px;'>\n",
    "This project applies regression techniques to predict future housing market values for Fairfax County, VA. This area has experienced rapid development in the past and it would be insightful to see what the future could hold for this county, and by extension, the greater DC Metropolitan Area."
   ]
  },
  {
   "cell_type": "markdown",
   "metadata": {},
   "source": [
    "# Preparing the data\n",
    "All data used for this project was obtained from the [Fairfax County website's demographic reports](https://www.fairfaxcounty.gov/demographics/reports). It spans the years from 1991 to 2018 and includes the estimated population, number of households, the number of housing units, median household income, and the median market value for each year. <br>\n",
    "<font size='1.5'> *****Note that some data for the median household income is missing and will be dealt with appropriately**</font>"
   ]
  },
  {
   "cell_type": "code",
   "execution_count": 1,
   "metadata": {},
   "outputs": [],
   "source": [
    "# Importing the libraries\n",
    "from sklearn.impute import SimpleImputer\n",
    "from IPython import get_ipython\n",
    "from IPython.core.interactiveshell import InteractiveShell\n",
    "import matplotlib.pyplot as plt\n",
    "import pandas as pd\n",
    "import numpy as np\n",
    "np.set_printoptions(precision=2)\n",
    "\n",
    "# Displaying all cell outputs\n",
    "InteractiveShell.ast_node_interactivity = 'all'\n",
    "ipython = get_ipython()\n",
    "\n",
    "# autoreload extension\n",
    "if 'autoreload' not in ipython.extension_manager.loaded:\n",
    "    %load_ext autoreload\n",
    "\n",
    "%autoreload 2\n",
    "\n",
    "# Importing the dataset\n",
    "df = pd.read_csv(\n",
    "    'https://rahbarprojects.s3.amazonaws.com/fairfax_county_housing.csv')\n",
    "X = df.iloc[:, :-1].values\n",
    "y = df.iloc[:, 5].values\n",
    "\n",
    "# Filling in missing data\n",
    "imputer = SimpleImputer()\n",
    "imputer = imputer.fit(X[:, 4:5])\n",
    "X[:, 4:5] = imputer.transform(X[:, 4:5])\n",
    "\n",
    "# Converting float values to int\n",
    "X = X.astype(int)"
   ]
  },
  {
   "cell_type": "markdown",
   "metadata": {
    "hide_input": false
   },
   "source": [
    "A look at the input and output variable data:"
   ]
  },
  {
   "cell_type": "code",
   "execution_count": 2,
   "metadata": {
    "hide_input": true
   },
   "outputs": [
    {
     "data": {
      "text/html": [
       "<div>\n",
       "<style scoped>\n",
       "    .dataframe tbody tr th:only-of-type {\n",
       "        vertical-align: middle;\n",
       "    }\n",
       "\n",
       "    .dataframe tbody tr th {\n",
       "        vertical-align: top;\n",
       "    }\n",
       "\n",
       "    .dataframe thead th {\n",
       "        text-align: right;\n",
       "    }\n",
       "</style>\n",
       "<table border=\"1\" class=\"dataframe\">\n",
       "  <thead>\n",
       "    <tr style=\"text-align: right;\">\n",
       "      <th></th>\n",
       "      <th>year</th>\n",
       "      <th>population</th>\n",
       "      <th>households</th>\n",
       "      <th>units</th>\n",
       "      <th>med_household_income</th>\n",
       "    </tr>\n",
       "  </thead>\n",
       "  <tbody>\n",
       "    <tr>\n",
       "      <th>0</th>\n",
       "      <td>1991</td>\n",
       "      <td>827119</td>\n",
       "      <td>296300</td>\n",
       "      <td>308202</td>\n",
       "      <td>61000</td>\n",
       "    </tr>\n",
       "    <tr>\n",
       "      <th>1</th>\n",
       "      <td>1992</td>\n",
       "      <td>837141</td>\n",
       "      <td>301900</td>\n",
       "      <td>312324</td>\n",
       "      <td>94082</td>\n",
       "    </tr>\n",
       "    <tr>\n",
       "      <th>2</th>\n",
       "      <td>1993</td>\n",
       "      <td>851858</td>\n",
       "      <td>307000</td>\n",
       "      <td>316723</td>\n",
       "      <td>64000</td>\n",
       "    </tr>\n",
       "    <tr>\n",
       "      <th>3</th>\n",
       "      <td>1994</td>\n",
       "      <td>863100</td>\n",
       "      <td>312000</td>\n",
       "      <td>322007</td>\n",
       "      <td>94082</td>\n",
       "    </tr>\n",
       "    <tr>\n",
       "      <th>4</th>\n",
       "      <td>1995</td>\n",
       "      <td>879401</td>\n",
       "      <td>317000</td>\n",
       "      <td>328151</td>\n",
       "      <td>70000</td>\n",
       "    </tr>\n",
       "  </tbody>\n",
       "</table>\n",
       "</div>"
      ],
      "text/plain": [
       "   year  population  households   units  med_household_income\n",
       "0  1991      827119      296300  308202                 61000\n",
       "1  1992      837141      301900  312324                 94082\n",
       "2  1993      851858      307000  316723                 64000\n",
       "3  1994      863100      312000  322007                 94082\n",
       "4  1995      879401      317000  328151                 70000"
      ]
     },
     "execution_count": 2,
     "metadata": {},
     "output_type": "execute_result"
    },
    {
     "data": {
      "text/html": [
       "<div>\n",
       "<style scoped>\n",
       "    .dataframe tbody tr th:only-of-type {\n",
       "        vertical-align: middle;\n",
       "    }\n",
       "\n",
       "    .dataframe tbody tr th {\n",
       "        vertical-align: top;\n",
       "    }\n",
       "\n",
       "    .dataframe thead th {\n",
       "        text-align: right;\n",
       "    }\n",
       "</style>\n",
       "<table border=\"1\" class=\"dataframe\">\n",
       "  <thead>\n",
       "    <tr style=\"text-align: right;\">\n",
       "      <th></th>\n",
       "      <th>med_market_value</th>\n",
       "    </tr>\n",
       "  </thead>\n",
       "  <tbody>\n",
       "    <tr>\n",
       "      <th>0</th>\n",
       "      <td>190100</td>\n",
       "    </tr>\n",
       "    <tr>\n",
       "      <th>1</th>\n",
       "      <td>183700</td>\n",
       "    </tr>\n",
       "    <tr>\n",
       "      <th>2</th>\n",
       "      <td>183500</td>\n",
       "    </tr>\n",
       "    <tr>\n",
       "      <th>3</th>\n",
       "      <td>184400</td>\n",
       "    </tr>\n",
       "    <tr>\n",
       "      <th>4</th>\n",
       "      <td>186800</td>\n",
       "    </tr>\n",
       "  </tbody>\n",
       "</table>\n",
       "</div>"
      ],
      "text/plain": [
       "   med_market_value\n",
       "0            190100\n",
       "1            183700\n",
       "2            183500\n",
       "3            184400\n",
       "4            186800"
      ]
     },
     "execution_count": 2,
     "metadata": {},
     "output_type": "execute_result"
    }
   ],
   "source": [
    "pd.DataFrame(X, columns=df.columns[0:5]).head()\n",
    "pd.DataFrame(y, columns=[df.columns[5]]).head()"
   ]
  },
  {
   "cell_type": "markdown",
   "metadata": {},
   "source": [
    "And the data, plotted side by side :"
   ]
  },
  {
   "cell_type": "code",
   "execution_count": 3,
   "metadata": {},
   "outputs": [
    {
     "data": {
      "image/png": "[encoded data removed]",
      "text/plain": [
       "<Figure size 864x720 with 5 Axes>"
      ]
     },
     "metadata": {
      "needs_background": "light"
     },
     "output_type": "display_data"
    }
   ],
   "source": [
    "%matplotlib inline\n",
    "\n",
    "fig = plt.figure(figsize=(12, 10))\n",
    "plt.subplots_adjust(left=0.125, right=1.0, bottom=0.3,\n",
    "                    top=0.9, wspace=2.0, hspace=3.0)\n",
    "\n",
    "# Year vs. Market Value\n",
    "ax1 = fig.add_subplot(321)\n",
    "plt.scatter(X[:, 0], y, c='g', marker='.')\n",
    "plt.title('Year vs. Median Market Value')\n",
    "plt.xlabel('Year')\n",
    "plt.ylabel('Median Market Value')\n",
    "\n",
    "# Population vs. Market Value\n",
    "ax2 = fig.add_subplot(322)\n",
    "plt.scatter(X[:, 1], y, c='r', marker='.')\n",
    "plt.title('Population vs. Median Market Value')\n",
    "plt.xlabel('Population')\n",
    "plt.ylabel('Median Market Value')\n",
    "\n",
    "# Households vs. Market Value\n",
    "ax3 = fig.add_subplot(323)\n",
    "plt.scatter(X[:, 2], y, c='y', marker='.')\n",
    "plt.title('Households vs. Median Market Value')\n",
    "plt.xlabel('Households')\n",
    "plt.ylabel('Median Market Value')\n",
    "\n",
    "# Units vs. Market Value\n",
    "ax4 = fig.add_subplot(324)\n",
    "plt.scatter(X[:, 3], y, marker='.')\n",
    "plt.title('Units vs. Median Market Value')\n",
    "plt.xlabel('Housing Units')\n",
    "plt.ylabel('Median Market Value')\n",
    "\n",
    "# Income vs. Market Value\n",
    "ax5 = fig.add_subplot(325)\n",
    "plt.scatter(X[:, 4], y, c='m', marker='.')\n",
    "plt.title('Income vs. Median Market Value')\n",
    "plt.xlabel('Median Household Income')\n",
    "plt.ylabel('Median Market Value')\n",
    "\n",
    "plt.tight_layout(pad=1, w_pad=1, h_pad=1);"
   ]
  },
  {
   "cell_type": "markdown",
   "metadata": {},
   "source": [
    "# Analysis/Modeling"
   ]
  },
  {
   "cell_type": "markdown",
   "metadata": {},
   "source": [
    "For this project, a multivariate linear regression model will be reduced using backward elimination. First, we will have to split the data into testing and training sets and train the model on the latter. "
   ]
  },
  {
   "cell_type": "code",
   "execution_count": 4,
   "metadata": {},
   "outputs": [],
   "source": [
    "# Splitting the data into training and testing sets\n",
    "from sklearn.linear_model import LinearRegression\n",
    "from sklearn.model_selection import train_test_split\n",
    "X_train, X_test, y_train, y_test = train_test_split(X, y, test_size=1/3)\n",
    "\n",
    "# Fitting the Linear Regression model to the training set\n",
    "lin_reg = LinearRegression()\n",
    "lin_reg.fit(X_train, y_train)\n",
    "\n",
    "# Training model on testing set\n",
    "y_pred = lin_reg.predict(X_test);"
   ]
  },
  {
   "cell_type": "markdown",
   "metadata": {},
   "source": [
    "Then we will use the process of backward elimination with a significance level of 5% to determine if an input variable will be used for the optimal model."
   ]
  },
  {
   "cell_type": "code",
   "execution_count": 5,
   "metadata": {},
   "outputs": [
    {
     "data": {
      "text/html": [
       "<table class=\"simpletable\">\n",
       "<caption>OLS Regression Results</caption>\n",
       "<tr>\n",
       "  <th>Dep. Variable:</th>            <td>y</td>        <th>  R-squared:         </th> <td>   0.922</td>\n",
       "</tr>\n",
       "<tr>\n",
       "  <th>Model:</th>                   <td>OLS</td>       <th>  Adj. R-squared:    </th> <td>   0.904</td>\n",
       "</tr>\n",
       "<tr>\n",
       "  <th>Method:</th>             <td>Least Squares</td>  <th>  F-statistic:       </th> <td>   52.08</td>\n",
       "</tr>\n",
       "<tr>\n",
       "  <th>Date:</th>             <td>Thu, 27 Jun 2019</td> <th>  Prob (F-statistic):</th> <td>1.85e-11</td>\n",
       "</tr>\n",
       "<tr>\n",
       "  <th>Time:</th>                 <td>18:44:55</td>     <th>  Log-Likelihood:    </th> <td> -334.98</td>\n",
       "</tr>\n",
       "<tr>\n",
       "  <th>No. Observations:</th>      <td>    28</td>      <th>  AIC:               </th> <td>   682.0</td>\n",
       "</tr>\n",
       "<tr>\n",
       "  <th>Df Residuals:</th>          <td>    22</td>      <th>  BIC:               </th> <td>   690.0</td>\n",
       "</tr>\n",
       "<tr>\n",
       "  <th>Df Model:</th>              <td>     5</td>      <th>                     </th>     <td> </td>   \n",
       "</tr>\n",
       "<tr>\n",
       "  <th>Covariance Type:</th>      <td>nonrobust</td>    <th>                     </th>     <td> </td>   \n",
       "</tr>\n",
       "</table>\n",
       "<table class=\"simpletable\">\n",
       "<tr>\n",
       "    <td></td>       <th>coef</th>     <th>std err</th>      <th>t</th>      <th>P>|t|</th>  <th>[0.025</th>    <th>0.975]</th>  \n",
       "</tr>\n",
       "<tr>\n",
       "  <th>const</th> <td>-3.385e+07</td> <td> 2.06e+07</td> <td>   -1.641</td> <td> 0.115</td> <td>-7.67e+07</td> <td> 8.94e+06</td>\n",
       "</tr>\n",
       "<tr>\n",
       "  <th>x1</th>    <td>  1.69e+04</td> <td> 1.07e+04</td> <td>    1.574</td> <td> 0.130</td> <td>-5362.297</td> <td> 3.92e+04</td>\n",
       "</tr>\n",
       "<tr>\n",
       "  <th>x2</th>    <td>   -5.1898</td> <td>    1.718</td> <td>   -3.022</td> <td> 0.006</td> <td>   -8.752</td> <td>   -1.628</td>\n",
       "</tr>\n",
       "<tr>\n",
       "  <th>x3</th>    <td>  -11.1456</td> <td>    7.423</td> <td>   -1.501</td> <td> 0.147</td> <td>  -26.541</td> <td>    4.249</td>\n",
       "</tr>\n",
       "<tr>\n",
       "  <th>x4</th>    <td>   25.8234</td> <td>    7.014</td> <td>    3.682</td> <td> 0.001</td> <td>   11.277</td> <td>   40.370</td>\n",
       "</tr>\n",
       "<tr>\n",
       "  <th>x5</th>    <td>   -0.3111</td> <td>    0.962</td> <td>   -0.323</td> <td> 0.749</td> <td>   -2.306</td> <td>    1.684</td>\n",
       "</tr>\n",
       "</table>\n",
       "<table class=\"simpletable\">\n",
       "<tr>\n",
       "  <th>Omnibus:</th>       <td> 0.130</td> <th>  Durbin-Watson:     </th> <td>   0.972</td>\n",
       "</tr>\n",
       "<tr>\n",
       "  <th>Prob(Omnibus):</th> <td> 0.937</td> <th>  Jarque-Bera (JB):  </th> <td>   0.257</td>\n",
       "</tr>\n",
       "<tr>\n",
       "  <th>Skew:</th>          <td>-0.141</td> <th>  Prob(JB):          </th> <td>   0.880</td>\n",
       "</tr>\n",
       "<tr>\n",
       "  <th>Kurtosis:</th>      <td> 2.625</td> <th>  Cond. No.          </th> <td>2.92e+09</td>\n",
       "</tr>\n",
       "</table><br/><br/>Warnings:<br/>[1] Standard Errors assume that the covariance matrix of the errors is correctly specified.<br/>[2] The condition number is large, 2.92e+09. This might indicate that there are<br/>strong multicollinearity or other numerical problems."
      ],
      "text/plain": [
       "<class 'statsmodels.iolib.summary.Summary'>\n",
       "\"\"\"\n",
       "                            OLS Regression Results                            \n",
       "==============================================================================\n",
       "Dep. Variable:                      y   R-squared:                       0.922\n",
       "Model:                            OLS   Adj. R-squared:                  0.904\n",
       "Method:                 Least Squares   F-statistic:                     52.08\n",
       "Date:                Thu, 27 Jun 2019   Prob (F-statistic):           1.85e-11\n",
       "Time:                        18:44:55   Log-Likelihood:                -334.98\n",
       "No. Observations:                  28   AIC:                             682.0\n",
       "Df Residuals:                      22   BIC:                             690.0\n",
       "Df Model:                           5                                         \n",
       "Covariance Type:            nonrobust                                         \n",
       "==============================================================================\n",
       "                 coef    std err          t      P>|t|      [0.025      0.975]\n",
       "------------------------------------------------------------------------------\n",
       "const      -3.385e+07   2.06e+07     -1.641      0.115   -7.67e+07    8.94e+06\n",
       "x1           1.69e+04   1.07e+04      1.574      0.130   -5362.297    3.92e+04\n",
       "x2            -5.1898      1.718     -3.022      0.006      -8.752      -1.628\n",
       "x3           -11.1456      7.423     -1.501      0.147     -26.541       4.249\n",
       "x4            25.8234      7.014      3.682      0.001      11.277      40.370\n",
       "x5            -0.3111      0.962     -0.323      0.749      -2.306       1.684\n",
       "==============================================================================\n",
       "Omnibus:                        0.130   Durbin-Watson:                   0.972\n",
       "Prob(Omnibus):                  0.937   Jarque-Bera (JB):                0.257\n",
       "Skew:                          -0.141   Prob(JB):                        0.880\n",
       "Kurtosis:                       2.625   Cond. No.                     2.92e+09\n",
       "==============================================================================\n",
       "\n",
       "Warnings:\n",
       "[1] Standard Errors assume that the covariance matrix of the errors is correctly specified.\n",
       "[2] The condition number is large, 2.92e+09. This might indicate that there are\n",
       "strong multicollinearity or other numerical problems.\n",
       "\"\"\""
      ]
     },
     "execution_count": 5,
     "metadata": {},
     "output_type": "execute_result"
    }
   ],
   "source": [
    "import statsmodels.formula.api as sm\n",
    "\n",
    "# Appending constant term\n",
    "X = np.append(arr=np.ones((28, 1)).astype(int), values=X, axis=1)\n",
    "\n",
    "# Model with all input variables\n",
    "optim_X = X[:, [0, 1, 2, 3, 4, 5]]\n",
    "reg_OLS = sm.OLS(endog=y, exog=optim_X).fit()\n",
    "reg_OLS.summary()"
   ]
  },
  {
   "cell_type": "markdown",
   "metadata": {},
   "source": [
    "From the results above, the variable that had the least significance upon the median market value was the median household income, with a p-value of 0.749, so that will be removed. "
   ]
  },
  {
   "cell_type": "code",
   "execution_count": 6,
   "metadata": {},
   "outputs": [
    {
     "data": {
      "text/html": [
       "<table class=\"simpletable\">\n",
       "<caption>OLS Regression Results</caption>\n",
       "<tr>\n",
       "  <th>Dep. Variable:</th>            <td>y</td>        <th>  R-squared:         </th> <td>   0.922</td>\n",
       "</tr>\n",
       "<tr>\n",
       "  <th>Model:</th>                   <td>OLS</td>       <th>  Adj. R-squared:    </th> <td>   0.908</td>\n",
       "</tr>\n",
       "<tr>\n",
       "  <th>Method:</th>             <td>Least Squares</td>  <th>  F-statistic:       </th> <td>   67.70</td>\n",
       "</tr>\n",
       "<tr>\n",
       "  <th>Date:</th>             <td>Thu, 27 Jun 2019</td> <th>  Prob (F-statistic):</th> <td>2.20e-12</td>\n",
       "</tr>\n",
       "<tr>\n",
       "  <th>Time:</th>                 <td>18:44:55</td>     <th>  Log-Likelihood:    </th> <td> -335.05</td>\n",
       "</tr>\n",
       "<tr>\n",
       "  <th>No. Observations:</th>      <td>    28</td>      <th>  AIC:               </th> <td>   680.1</td>\n",
       "</tr>\n",
       "<tr>\n",
       "  <th>Df Residuals:</th>          <td>    23</td>      <th>  BIC:               </th> <td>   686.8</td>\n",
       "</tr>\n",
       "<tr>\n",
       "  <th>Df Model:</th>              <td>     4</td>      <th>                     </th>     <td> </td>   \n",
       "</tr>\n",
       "<tr>\n",
       "  <th>Covariance Type:</th>      <td>nonrobust</td>    <th>                     </th>     <td> </td>   \n",
       "</tr>\n",
       "</table>\n",
       "<table class=\"simpletable\">\n",
       "<tr>\n",
       "    <td></td>       <th>coef</th>     <th>std err</th>      <th>t</th>      <th>P>|t|</th>  <th>[0.025</th>    <th>0.975]</th>  \n",
       "</tr>\n",
       "<tr>\n",
       "  <th>const</th> <td>-3.194e+07</td> <td> 1.94e+07</td> <td>   -1.648</td> <td> 0.113</td> <td> -7.2e+07</td> <td> 8.16e+06</td>\n",
       "</tr>\n",
       "<tr>\n",
       "  <th>x1</th>    <td> 1.592e+04</td> <td> 1.01e+04</td> <td>    1.577</td> <td> 0.128</td> <td>-4960.818</td> <td> 3.68e+04</td>\n",
       "</tr>\n",
       "<tr>\n",
       "  <th>x2</th>    <td>   -5.0351</td> <td>    1.617</td> <td>   -3.113</td> <td> 0.005</td> <td>   -8.381</td> <td>   -1.690</td>\n",
       "</tr>\n",
       "<tr>\n",
       "  <th>x3</th>    <td>  -11.0783</td> <td>    7.274</td> <td>   -1.523</td> <td> 0.141</td> <td>  -26.127</td> <td>    3.970</td>\n",
       "</tr>\n",
       "<tr>\n",
       "  <th>x4</th>    <td>   25.4307</td> <td>    6.772</td> <td>    3.755</td> <td> 0.001</td> <td>   11.421</td> <td>   39.440</td>\n",
       "</tr>\n",
       "</table>\n",
       "<table class=\"simpletable\">\n",
       "<tr>\n",
       "  <th>Omnibus:</th>       <td> 0.074</td> <th>  Durbin-Watson:     </th> <td>   0.919</td>\n",
       "</tr>\n",
       "<tr>\n",
       "  <th>Prob(Omnibus):</th> <td> 0.964</td> <th>  Jarque-Bera (JB):  </th> <td>   0.281</td>\n",
       "</tr>\n",
       "<tr>\n",
       "  <th>Skew:</th>          <td>-0.063</td> <th>  Prob(JB):          </th> <td>   0.869</td>\n",
       "</tr>\n",
       "<tr>\n",
       "  <th>Kurtosis:</th>      <td> 2.526</td> <th>  Cond. No.          </th> <td>2.78e+09</td>\n",
       "</tr>\n",
       "</table><br/><br/>Warnings:<br/>[1] Standard Errors assume that the covariance matrix of the errors is correctly specified.<br/>[2] The condition number is large, 2.78e+09. This might indicate that there are<br/>strong multicollinearity or other numerical problems."
      ],
      "text/plain": [
       "<class 'statsmodels.iolib.summary.Summary'>\n",
       "\"\"\"\n",
       "                            OLS Regression Results                            \n",
       "==============================================================================\n",
       "Dep. Variable:                      y   R-squared:                       0.922\n",
       "Model:                            OLS   Adj. R-squared:                  0.908\n",
       "Method:                 Least Squares   F-statistic:                     67.70\n",
       "Date:                Thu, 27 Jun 2019   Prob (F-statistic):           2.20e-12\n",
       "Time:                        18:44:55   Log-Likelihood:                -335.05\n",
       "No. Observations:                  28   AIC:                             680.1\n",
       "Df Residuals:                      23   BIC:                             686.8\n",
       "Df Model:                           4                                         \n",
       "Covariance Type:            nonrobust                                         \n",
       "==============================================================================\n",
       "                 coef    std err          t      P>|t|      [0.025      0.975]\n",
       "------------------------------------------------------------------------------\n",
       "const      -3.194e+07   1.94e+07     -1.648      0.113    -7.2e+07    8.16e+06\n",
       "x1          1.592e+04   1.01e+04      1.577      0.128   -4960.818    3.68e+04\n",
       "x2            -5.0351      1.617     -3.113      0.005      -8.381      -1.690\n",
       "x3           -11.0783      7.274     -1.523      0.141     -26.127       3.970\n",
       "x4            25.4307      6.772      3.755      0.001      11.421      39.440\n",
       "==============================================================================\n",
       "Omnibus:                        0.074   Durbin-Watson:                   0.919\n",
       "Prob(Omnibus):                  0.964   Jarque-Bera (JB):                0.281\n",
       "Skew:                          -0.063   Prob(JB):                        0.869\n",
       "Kurtosis:                       2.526   Cond. No.                     2.78e+09\n",
       "==============================================================================\n",
       "\n",
       "Warnings:\n",
       "[1] Standard Errors assume that the covariance matrix of the errors is correctly specified.\n",
       "[2] The condition number is large, 2.78e+09. This might indicate that there are\n",
       "strong multicollinearity or other numerical problems.\n",
       "\"\"\""
      ]
     },
     "execution_count": 6,
     "metadata": {},
     "output_type": "execute_result"
    }
   ],
   "source": [
    "# Model with median income removed\n",
    "optim_X = X[:, [0, 1, 2, 3, 4]]\n",
    "reg_OLS = sm.OLS(endog=y, exog=optim_X).fit()\n",
    "reg_OLS.summary()"
   ]
  },
  {
   "cell_type": "markdown",
   "metadata": {},
   "source": [
    "Now the input with the least significance is the number of households, with a p-value of 0.141, so that will be removed for the next step."
   ]
  },
  {
   "cell_type": "code",
   "execution_count": 7,
   "metadata": {},
   "outputs": [
    {
     "data": {
      "text/html": [
       "<table class=\"simpletable\">\n",
       "<caption>OLS Regression Results</caption>\n",
       "<tr>\n",
       "  <th>Dep. Variable:</th>            <td>y</td>        <th>  R-squared:         </th> <td>   0.914</td>\n",
       "</tr>\n",
       "<tr>\n",
       "  <th>Model:</th>                   <td>OLS</td>       <th>  Adj. R-squared:    </th> <td>   0.903</td>\n",
       "</tr>\n",
       "<tr>\n",
       "  <th>Method:</th>             <td>Least Squares</td>  <th>  F-statistic:       </th> <td>   84.84</td>\n",
       "</tr>\n",
       "<tr>\n",
       "  <th>Date:</th>             <td>Thu, 27 Jun 2019</td> <th>  Prob (F-statistic):</th> <td>6.48e-13</td>\n",
       "</tr>\n",
       "<tr>\n",
       "  <th>Time:</th>                 <td>18:44:55</td>     <th>  Log-Likelihood:    </th> <td> -336.40</td>\n",
       "</tr>\n",
       "<tr>\n",
       "  <th>No. Observations:</th>      <td>    28</td>      <th>  AIC:               </th> <td>   680.8</td>\n",
       "</tr>\n",
       "<tr>\n",
       "  <th>Df Residuals:</th>          <td>    24</td>      <th>  BIC:               </th> <td>   686.1</td>\n",
       "</tr>\n",
       "<tr>\n",
       "  <th>Df Model:</th>              <td>     3</td>      <th>                     </th>     <td> </td>   \n",
       "</tr>\n",
       "<tr>\n",
       "  <th>Covariance Type:</th>      <td>nonrobust</td>    <th>                     </th>     <td> </td>   \n",
       "</tr>\n",
       "</table>\n",
       "<table class=\"simpletable\">\n",
       "<tr>\n",
       "    <td></td>       <th>coef</th>     <th>std err</th>      <th>t</th>      <th>P>|t|</th>  <th>[0.025</th>    <th>0.975]</th>  \n",
       "</tr>\n",
       "<tr>\n",
       "  <th>const</th> <td>-5.277e+07</td> <td> 1.41e+07</td> <td>   -3.741</td> <td> 0.001</td> <td>-8.19e+07</td> <td>-2.37e+07</td>\n",
       "</tr>\n",
       "<tr>\n",
       "  <th>x1</th>    <td> 2.679e+04</td> <td> 7325.145</td> <td>    3.658</td> <td> 0.001</td> <td> 1.17e+04</td> <td> 4.19e+04</td>\n",
       "</tr>\n",
       "<tr>\n",
       "  <th>x2</th>    <td>   -6.5381</td> <td>    1.316</td> <td>   -4.969</td> <td> 0.000</td> <td>   -9.254</td> <td>   -3.822</td>\n",
       "</tr>\n",
       "<tr>\n",
       "  <th>x3</th>    <td>   16.0824</td> <td>    2.938</td> <td>    5.473</td> <td> 0.000</td> <td>   10.018</td> <td>   22.147</td>\n",
       "</tr>\n",
       "</table>\n",
       "<table class=\"simpletable\">\n",
       "<tr>\n",
       "  <th>Omnibus:</th>       <td> 0.260</td> <th>  Durbin-Watson:     </th> <td>   0.936</td>\n",
       "</tr>\n",
       "<tr>\n",
       "  <th>Prob(Omnibus):</th> <td> 0.878</td> <th>  Jarque-Bera (JB):  </th> <td>   0.028</td>\n",
       "</tr>\n",
       "<tr>\n",
       "  <th>Skew:</th>          <td>-0.075</td> <th>  Prob(JB):          </th> <td>   0.986</td>\n",
       "</tr>\n",
       "<tr>\n",
       "  <th>Kurtosis:</th>      <td> 2.960</td> <th>  Cond. No.          </th> <td>1.87e+09</td>\n",
       "</tr>\n",
       "</table><br/><br/>Warnings:<br/>[1] Standard Errors assume that the covariance matrix of the errors is correctly specified.<br/>[2] The condition number is large, 1.87e+09. This might indicate that there are<br/>strong multicollinearity or other numerical problems."
      ],
      "text/plain": [
       "<class 'statsmodels.iolib.summary.Summary'>\n",
       "\"\"\"\n",
       "                            OLS Regression Results                            \n",
       "==============================================================================\n",
       "Dep. Variable:                      y   R-squared:                       0.914\n",
       "Model:                            OLS   Adj. R-squared:                  0.903\n",
       "Method:                 Least Squares   F-statistic:                     84.84\n",
       "Date:                Thu, 27 Jun 2019   Prob (F-statistic):           6.48e-13\n",
       "Time:                        18:44:55   Log-Likelihood:                -336.40\n",
       "No. Observations:                  28   AIC:                             680.8\n",
       "Df Residuals:                      24   BIC:                             686.1\n",
       "Df Model:                           3                                         \n",
       "Covariance Type:            nonrobust                                         \n",
       "==============================================================================\n",
       "                 coef    std err          t      P>|t|      [0.025      0.975]\n",
       "------------------------------------------------------------------------------\n",
       "const      -5.277e+07   1.41e+07     -3.741      0.001   -8.19e+07   -2.37e+07\n",
       "x1          2.679e+04   7325.145      3.658      0.001    1.17e+04    4.19e+04\n",
       "x2            -6.5381      1.316     -4.969      0.000      -9.254      -3.822\n",
       "x3            16.0824      2.938      5.473      0.000      10.018      22.147\n",
       "==============================================================================\n",
       "Omnibus:                        0.260   Durbin-Watson:                   0.936\n",
       "Prob(Omnibus):                  0.878   Jarque-Bera (JB):                0.028\n",
       "Skew:                          -0.075   Prob(JB):                        0.986\n",
       "Kurtosis:                       2.960   Cond. No.                     1.87e+09\n",
       "==============================================================================\n",
       "\n",
       "Warnings:\n",
       "[1] Standard Errors assume that the covariance matrix of the errors is correctly specified.\n",
       "[2] The condition number is large, 1.87e+09. This might indicate that there are\n",
       "strong multicollinearity or other numerical problems.\n",
       "\"\"\""
      ]
     },
     "execution_count": 7,
     "metadata": {},
     "output_type": "execute_result"
    }
   ],
   "source": [
    "# Model with number of households removed\n",
    "optim_X = X[:, [0, 1, 2, 4]]\n",
    "reg_OLS = sm.OLS(endog=y, exog=optim_X).fit()\n",
    "reg_OLS.summary()"
   ]
  },
  {
   "cell_type": "markdown",
   "metadata": {},
   "source": [
    "We have now narrowed the input variables with the highest significance on our output to be the year, the population, and the number of housing units, and have built our optimal regression model."
   ]
  },
  {
   "cell_type": "markdown",
   "metadata": {},
   "source": [
    "# Results\n",
    "Show graphs and stats here"
   ]
  },
  {
   "cell_type": "code",
   "execution_count": 13,
   "metadata": {},
   "outputs": [
    {
     "data": {
      "image/png": "[encoded data removed]",
      "text/plain": [
       "<Figure size 864x720 with 3 Axes>"
      ]
     },
     "metadata": {
      "needs_background": "light"
     },
     "output_type": "display_data"
    }
   ],
   "source": [
    "%matplotlib inline\n",
    "\n",
    "fig = plt.figure(figsize=(12, 10))\n",
    "plt.subplots_adjust(left=0.125, right=1.0, bottom=0.3,\n",
    "                    top=0.9, wspace=2.0, hspace=3.0)\n",
    "\n",
    "# Year vs. Market Value\n",
    "ax1 = fig.add_subplot(221)\n",
    "plt.scatter(X[:, 1], y, c='g', marker='.')\n",
    "plt.title('Year vs. Median Market Value')\n",
    "plt.xlabel('Year')\n",
    "plt.ylabel('Median Market Value')\n",
    "\n",
    "# Population vs. Market Value\n",
    "ax2 = fig.add_subplot(222)\n",
    "plt.scatter(X[:, 2], y, c='r', marker='.')\n",
    "plt.title('Population vs. Median Market Value')\n",
    "plt.xlabel('Population')\n",
    "plt.ylabel('Median Market Value')\n",
    "\n",
    "# Units vs. Market Value\n",
    "ax4 = fig.add_subplot(223)\n",
    "plt.scatter(X[:, 4], y, marker='.')\n",
    "plt.title('Units vs. Median Market Value')\n",
    "plt.xlabel('Housing Units')\n",
    "plt.ylabel('Median Market Value')\n",
    "\n",
    "plt.tight_layout(pad=1, w_pad=1, h_pad=1);"
   ]
  },
  {
   "cell_type": "markdown",
   "metadata": {},
   "source": [
    "# Conclusions and Next Steps\n",
    "Summarize findings here"
   ]
  },
  {
   "cell_type": "code",
   "execution_count": null,
   "metadata": {},
   "outputs": [],
   "source": []
  }
 ],
 "metadata": {
  "hide_input": false,
  "kernelspec": {
   "display_name": "Python 3",
   "language": "python",
   "name": "python3"
  },
  "language_info": {
   "codemirror_mode": {
    "name": "ipython",
    "version": 3
   },
   "file_extension": ".py",
   "mimetype": "text/x-python",
   "name": "python",
   "nbconvert_exporter": "python",
   "pygments_lexer": "ipython3",
   "version": "3.7.3"
  },
  "toc": {
   "base_numbering": 1,
   "nav_menu": {},
   "number_sections": true,
   "sideBar": true,
   "skip_h1_title": false,
   "title_cell": "Table of Contents",
   "title_sidebar": "Contents",
   "toc_cell": false,
   "toc_position": {},
   "toc_section_display": true,
   "toc_window_display": false
  },
  "varInspector": {
   "cols": {
    "lenName": 16,
    "lenType": 16,
    "lenVar": 40
   },
   "kernels_config": {
    "python": {
     "delete_cmd_postfix": "",
     "delete_cmd_prefix": "del ",
     "library": "var_list.py",
     "varRefreshCmd": "print(var_dic_list())"
    },
    "r": {
     "delete_cmd_postfix": ") ",
     "delete_cmd_prefix": "rm(",
     "library": "var_list.r",
     "varRefreshCmd": "cat(var_dic_list()) "
    }
   },
   "position": {
    "height": "372.417px",
    "left": "966.433px",
    "right": "20px",
    "top": "118px",
    "width": "391.133px"
   },
   "types_to_exclude": [
    "module",
    "function",
    "builtin_function_or_method",
    "instance",
    "_Feature"
   ],
   "window_display": false
  }
 },
 "nbformat": 4,
 "nbformat_minor": 2
}
