{
 "cells": [
  {
   "cell_type": "markdown",
   "metadata": {},
   "source": [
    "<font size='6'> Fairfax County Housing Values </font> <br style = 'line-height: 50px;'>\n",
    "This project applies regression techniques to predict future housing market values for Fairfax County, VA. This area has experienced rapid development in the past and it would be insightful to see what the future could hold for this county, and by extension, the greater DC Metropolitan Area."
   ]
  },
  {
   "cell_type": "markdown",
   "metadata": {},
   "source": [
    "# Preparing the data\n",
    "All data used for this project was obtained from the [Fairfax County website's demographic reports](https://www.fairfaxcounty.gov/demographics/reports). It spans the years from 1991 to 2018 and includes the estimated population, number of households, the number of housing units, median household income, and the median market value for each year. <br>\n",
    "<font size='1.5'> *****Note that some data for the median household income is missing and will be dealt with appropriately**</font>"
   ]
  },
  {
   "cell_type": "code",
   "execution_count": 23,
   "metadata": {},
   "outputs": [],
   "source": [
    "# Importing the libraries\n",
    "from sklearn.impute import SimpleImputer\n",
    "from IPython import get_ipython\n",
    "from IPython.core.interactiveshell import InteractiveShell\n",
    "import matplotlib.pyplot as plt\n",
    "import pandas as pd\n",
    "import numpy as np\n",
    "np.set_printoptions(precision=2)\n",
    "\n",
    "# Displaying all cell outputs\n",
    "InteractiveShell.ast_node_interactivity = 'all'\n",
    "ipython = get_ipython()\n",
    "\n",
    "# autoreload extension\n",
    "if 'autoreload' not in ipython.extension_manager.loaded:\n",
    "    %load_ext autoreload\n",
    "\n",
    "%autoreload 2\n",
    "\n",
    "# Importing the dataset\n",
    "df = pd.read_csv(\n",
    "    'https://rahbarprojects.s3.amazonaws.com/fairfax_county_housing.csv')\n",
    "X = df.iloc[:, :-1].values\n",
    "y = df.iloc[:, 5].values\n",
    "\n",
    "# Filling in missing data\n",
    "imputer = SimpleImputer()\n",
    "imputer = imputer.fit(X[:, 4:5])\n",
    "X[:, 4:5] = imputer.transform(X[:, 4:5])\n",
    "\n",
    "# Converting float values to int\n",
    "X = X.astype(int)"
   ]
  },
  {
   "cell_type": "markdown",
   "metadata": {},
   "source": [
    "A look at the dataset :"
   ]
  },
  {
   "cell_type": "code",
   "execution_count": 16,
   "metadata": {},
   "outputs": [
    {
     "data": {
      "text/html": [
       "<div>\n",
       "<style scoped>\n",
       "    .dataframe tbody tr th:only-of-type {\n",
       "        vertical-align: middle;\n",
       "    }\n",
       "\n",
       "    .dataframe tbody tr th {\n",
       "        vertical-align: top;\n",
       "    }\n",
       "\n",
       "    .dataframe thead th {\n",
       "        text-align: right;\n",
       "    }\n",
       "</style>\n",
       "<table border=\"1\" class=\"dataframe\">\n",
       "  <thead>\n",
       "    <tr style=\"text-align: right;\">\n",
       "      <th></th>\n",
       "      <th>year</th>\n",
       "      <th>population</th>\n",
       "      <th>households</th>\n",
       "      <th>housing units</th>\n",
       "      <th>median household income</th>\n",
       "      <th>median market value</th>\n",
       "    </tr>\n",
       "  </thead>\n",
       "  <tbody>\n",
       "    <tr>\n",
       "      <th>0</th>\n",
       "      <td>1991</td>\n",
       "      <td>827119</td>\n",
       "      <td>296300</td>\n",
       "      <td>308202</td>\n",
       "      <td>61000</td>\n",
       "      <td>190100</td>\n",
       "    </tr>\n",
       "    <tr>\n",
       "      <th>1</th>\n",
       "      <td>1992</td>\n",
       "      <td>837141</td>\n",
       "      <td>301900</td>\n",
       "      <td>312324</td>\n",
       "      <td>94082</td>\n",
       "      <td>183700</td>\n",
       "    </tr>\n",
       "    <tr>\n",
       "      <th>2</th>\n",
       "      <td>1993</td>\n",
       "      <td>851858</td>\n",
       "      <td>307000</td>\n",
       "      <td>316723</td>\n",
       "      <td>64000</td>\n",
       "      <td>183500</td>\n",
       "    </tr>\n",
       "    <tr>\n",
       "      <th>3</th>\n",
       "      <td>1994</td>\n",
       "      <td>863100</td>\n",
       "      <td>312000</td>\n",
       "      <td>322007</td>\n",
       "      <td>94082</td>\n",
       "      <td>184400</td>\n",
       "    </tr>\n",
       "    <tr>\n",
       "      <th>4</th>\n",
       "      <td>1995</td>\n",
       "      <td>879401</td>\n",
       "      <td>317000</td>\n",
       "      <td>328151</td>\n",
       "      <td>70000</td>\n",
       "      <td>186800</td>\n",
       "    </tr>\n",
       "  </tbody>\n",
       "</table>\n",
       "</div>"
      ],
      "text/plain": [
       "   year  population  households  housing units  median household income  \\\n",
       "0  1991      827119      296300         308202                    61000   \n",
       "1  1992      837141      301900         312324                    94082   \n",
       "2  1993      851858      307000         316723                    64000   \n",
       "3  1994      863100      312000         322007                    94082   \n",
       "4  1995      879401      317000         328151                    70000   \n",
       "\n",
       "   median market value  \n",
       "0               190100  \n",
       "1               183700  \n",
       "2               183500  \n",
       "3               184400  \n",
       "4               186800  "
      ]
     },
     "execution_count": 16,
     "metadata": {},
     "output_type": "execute_result"
    }
   ],
   "source": [
    "df = pd.DataFrame(X, columns=['year', 'population',\n",
    "                              'households', 'housing units', 'median household income'])\n",
    "df['median market value'] = pd.DataFrame(y)\n",
    "df.head()"
   ]
  },
  {
   "cell_type": "markdown",
   "metadata": {},
   "source": [
    "And the data, plotted side by side :"
   ]
  },
  {
   "cell_type": "code",
   "execution_count": 42,
   "metadata": {},
   "outputs": [
    {
     "data": {
      "image/png": "[encoded data removed]",
      "text/plain": [
       "<Figure size 1224x360 with 1 Axes>"
      ]
     },
     "metadata": {
      "needs_background": "light"
     },
     "output_type": "display_data"
    },
    {
     "data": {
      "image/png": "[encoded data removed]",
      "text/plain": [
       "<Figure size 1224x360 with 1 Axes>"
      ]
     },
     "metadata": {
      "needs_background": "light"
     },
     "output_type": "display_data"
    }
   ],
   "source": [
    "%matplotlib inline\n",
    "fig = plt.figure()\n",
    "ax1 = fig.add_subplot(1,2,1)\n",
    "plt.plot(X[:,0], y, color = 'red');\n",
    "plt.title('Year vs Market Value')\n",
    "plt.xlabel('Year')\n",
    "plt.ylabel('Median Market Value')\n",
    "plt.show();\n",
    "fig = plt.figure(figsize = (17,5))\n",
    "ax1 = fig.add_subplot(1,2,2)\n",
    "plt.plot(X[:,1], y, color = 'blue');\n",
    "plt.title('Population vs Market Value')\n",
    "plt.xlabel('Population')\n",
    "plt.ylabel('Median Market Value')\n",
    "plt.show();"
   ]
  },
  {
   "cell_type": "markdown",
   "metadata": {},
   "source": [
    "# Analysis/Modeling"
   ]
  },
  {
   "cell_type": "markdown",
   "metadata": {},
   "source": [
    "Firstly, we will work with a multivariate linear regression model :"
   ]
  },
  {
   "cell_type": "code",
   "execution_count": null,
   "metadata": {},
   "outputs": [],
   "source": [
    "# Splitting the data into training and testing sets\n",
    "from sklearn.model_selection import train_test_split\n",
    "X_train, X_test, y_train, y_test = train_test_split(X, y, test_size = 1/3)\n",
    "\n",
    "# Fitting the Linear Regression model to the training set\n",
    "from sklearn.linear_model import LinearRegression\n",
    "lin_reg = LinearRegression()\n",
    "lin_reg.fit(X_train, y_train)\n",
    "\n",
    "# Training model on testing set\n",
    "y_pred = lin_reg.predict(X_test)"
   ]
  },
  {
   "cell_type": "markdown",
   "metadata": {},
   "source": [
    "# Results\n",
    "Show graphs and stats here"
   ]
  },
  {
   "cell_type": "markdown",
   "metadata": {},
   "source": [
    "# Conclusions and Next Steps\n",
    "Summarize findings here"
   ]
  },
  {
   "cell_type": "code",
   "execution_count": null,
   "metadata": {},
   "outputs": [],
   "source": []
  }
 ],
 "metadata": {
  "hide_input": false,
  "kernelspec": {
   "display_name": "Python 3",
   "language": "python",
   "name": "python3"
  },
  "language_info": {
   "codemirror_mode": {
    "name": "ipython",
    "version": 3
   },
   "file_extension": ".py",
   "mimetype": "text/x-python",
   "name": "python",
   "nbconvert_exporter": "python",
   "pygments_lexer": "ipython3",
   "version": "3.7.3"
  },
  "toc": {
   "base_numbering": 1,
   "nav_menu": {},
   "number_sections": true,
   "sideBar": true,
   "skip_h1_title": false,
   "title_cell": "Table of Contents",
   "title_sidebar": "Contents",
   "toc_cell": false,
   "toc_position": {},
   "toc_section_display": true,
   "toc_window_display": false
  },
  "varInspector": {
   "cols": {
    "lenName": 16,
    "lenType": 16,
    "lenVar": 40
   },
   "kernels_config": {
    "python": {
     "delete_cmd_postfix": "",
     "delete_cmd_prefix": "del ",
     "library": "var_list.py",
     "varRefreshCmd": "print(var_dic_list())"
    },
    "r": {
     "delete_cmd_postfix": ") ",
     "delete_cmd_prefix": "rm(",
     "library": "var_list.r",
     "varRefreshCmd": "cat(var_dic_list()) "
    }
   },
   "position": {
    "height": "372.417px",
    "left": "966.433px",
    "right": "20px",
    "top": "118px",
    "width": "391.133px"
   },
   "types_to_exclude": [
    "module",
    "function",
    "builtin_function_or_method",
    "instance",
    "_Feature"
   ],
   "window_display": false
  }
 },
 "nbformat": 4,
 "nbformat_minor": 2
}
