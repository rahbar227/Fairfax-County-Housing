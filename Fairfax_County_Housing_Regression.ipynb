{
 "cells": [
  {
   "cell_type": "markdown",
   "metadata": {},
   "source": [
    "# Fairfax County Housing Values: Linear Regression"
   ]
  },
  {
   "cell_type": "markdown",
   "metadata": {},
   "source": [
    "This project applies linear regression to housing market values for Fairfax County, VA. This area has experienced rapid development in the past and it would be insightful to see what the data proclaims."
   ]
  },
  {
   "cell_type": "markdown",
   "metadata": {},
   "source": [
    "# Preparing the data\n",
    "All data used for this project was obtained from the [Fairfax County website's demographic reports](https://www.fairfaxcounty.gov/demographics/reports). It spans the years from 1991 to 2018 and includes the estimated population, number of households, the number of housing units, median household income, and the median market value for each year. <br>\n",
    "<font size='1.5'> *****Note that some data for the median household income is missing and will be dealt with appropriately**</font>"
   ]
  },
  {
   "cell_type": "code",
   "execution_count": 1,
   "metadata": {},
   "outputs": [],
   "source": [
    "# Importing the libraries\n",
    "from sklearn.impute import SimpleImputer\n",
    "from IPython import get_ipython\n",
    "from IPython.core.interactiveshell import InteractiveShell\n",
    "import matplotlib.pyplot as plt\n",
    "import pandas as pd\n",
    "import numpy as np\n",
    "np.set_printoptions(precision=2)\n",
    "\n",
    "# Displaying all cell outputs\n",
    "InteractiveShell.ast_node_interactivity = 'all'\n",
    "ipython = get_ipython()\n",
    "\n",
    "# autoreload extension\n",
    "if 'autoreload' not in ipython.extension_manager.loaded:\n",
    "    %load_ext autoreload\n",
    "\n",
    "%autoreload 2\n",
    "\n",
    "# Importing the dataset\n",
    "df = pd.read_csv(\n",
    "    'https://rahbarprojects.s3.amazonaws.com/fairfax_county_housing.csv')\n",
    "X = df.iloc[:, 1:5].values\n",
    "y = df.iloc[:, 5].values\n",
    "\n",
    "# Filling in missing data\n",
    "imputer = SimpleImputer()\n",
    "imputer = imputer.fit(X[:, 3:4])\n",
    "X[:, 3:4] = imputer.transform(X[:, 3:4])\n",
    "\n",
    "# Converting float values to int\n",
    "X = X.astype(int)"
   ]
  },
  {
   "cell_type": "markdown",
   "metadata": {
    "hide_input": false
   },
   "source": [
    "A look at the input and output variable data:"
   ]
  },
  {
   "cell_type": "code",
   "execution_count": 2,
   "metadata": {
    "hide_input": true
   },
   "outputs": [
    {
     "data": {
      "text/html": [
       "<div>\n",
       "<style scoped>\n",
       "    .dataframe tbody tr th:only-of-type {\n",
       "        vertical-align: middle;\n",
       "    }\n",
       "\n",
       "    .dataframe tbody tr th {\n",
       "        vertical-align: top;\n",
       "    }\n",
       "\n",
       "    .dataframe thead th {\n",
       "        text-align: right;\n",
       "    }\n",
       "</style>\n",
       "<table border=\"1\" class=\"dataframe\">\n",
       "  <thead>\n",
       "    <tr style=\"text-align: right;\">\n",
       "      <th></th>\n",
       "      <th>population</th>\n",
       "      <th>households</th>\n",
       "      <th>units</th>\n",
       "      <th>med_household_income</th>\n",
       "    </tr>\n",
       "  </thead>\n",
       "  <tbody>\n",
       "    <tr>\n",
       "      <th>0</th>\n",
       "      <td>827119</td>\n",
       "      <td>296300</td>\n",
       "      <td>308202</td>\n",
       "      <td>61000</td>\n",
       "    </tr>\n",
       "    <tr>\n",
       "      <th>1</th>\n",
       "      <td>837141</td>\n",
       "      <td>301900</td>\n",
       "      <td>312324</td>\n",
       "      <td>94082</td>\n",
       "    </tr>\n",
       "    <tr>\n",
       "      <th>2</th>\n",
       "      <td>851858</td>\n",
       "      <td>307000</td>\n",
       "      <td>316723</td>\n",
       "      <td>64000</td>\n",
       "    </tr>\n",
       "    <tr>\n",
       "      <th>3</th>\n",
       "      <td>863100</td>\n",
       "      <td>312000</td>\n",
       "      <td>322007</td>\n",
       "      <td>94082</td>\n",
       "    </tr>\n",
       "    <tr>\n",
       "      <th>4</th>\n",
       "      <td>879401</td>\n",
       "      <td>317000</td>\n",
       "      <td>328151</td>\n",
       "      <td>70000</td>\n",
       "    </tr>\n",
       "  </tbody>\n",
       "</table>\n",
       "</div>"
      ],
      "text/plain": [
       "   population  households   units  med_household_income\n",
       "0      827119      296300  308202                 61000\n",
       "1      837141      301900  312324                 94082\n",
       "2      851858      307000  316723                 64000\n",
       "3      863100      312000  322007                 94082\n",
       "4      879401      317000  328151                 70000"
      ]
     },
     "execution_count": 2,
     "metadata": {},
     "output_type": "execute_result"
    },
    {
     "data": {
      "text/html": [
       "<div>\n",
       "<style scoped>\n",
       "    .dataframe tbody tr th:only-of-type {\n",
       "        vertical-align: middle;\n",
       "    }\n",
       "\n",
       "    .dataframe tbody tr th {\n",
       "        vertical-align: top;\n",
       "    }\n",
       "\n",
       "    .dataframe thead th {\n",
       "        text-align: right;\n",
       "    }\n",
       "</style>\n",
       "<table border=\"1\" class=\"dataframe\">\n",
       "  <thead>\n",
       "    <tr style=\"text-align: right;\">\n",
       "      <th></th>\n",
       "      <th>med_market_value</th>\n",
       "    </tr>\n",
       "  </thead>\n",
       "  <tbody>\n",
       "    <tr>\n",
       "      <th>0</th>\n",
       "      <td>190100</td>\n",
       "    </tr>\n",
       "    <tr>\n",
       "      <th>1</th>\n",
       "      <td>183700</td>\n",
       "    </tr>\n",
       "    <tr>\n",
       "      <th>2</th>\n",
       "      <td>183500</td>\n",
       "    </tr>\n",
       "    <tr>\n",
       "      <th>3</th>\n",
       "      <td>184400</td>\n",
       "    </tr>\n",
       "    <tr>\n",
       "      <th>4</th>\n",
       "      <td>186800</td>\n",
       "    </tr>\n",
       "  </tbody>\n",
       "</table>\n",
       "</div>"
      ],
      "text/plain": [
       "   med_market_value\n",
       "0            190100\n",
       "1            183700\n",
       "2            183500\n",
       "3            184400\n",
       "4            186800"
      ]
     },
     "execution_count": 2,
     "metadata": {},
     "output_type": "execute_result"
    }
   ],
   "source": [
    "pd.DataFrame(X, columns=df.columns[1:5]).head()\n",
    "pd.DataFrame(y, columns=[df.columns[5]]).head()"
   ]
  },
  {
   "cell_type": "markdown",
   "metadata": {},
   "source": [
    "And the data, plotted side by side :"
   ]
  },
  {
   "cell_type": "code",
   "execution_count": 3,
   "metadata": {},
   "outputs": [
    {
     "data": {
      "image/png": "[encoded data removed]",
      "text/plain": [
       "<Figure size 864x720 with 4 Axes>"
      ]
     },
     "metadata": {
      "needs_background": "light"
     },
     "output_type": "display_data"
    }
   ],
   "source": [
    "%matplotlib inline\n",
    "\n",
    "fig = plt.figure(figsize=(12, 10))\n",
    "plt.subplots_adjust(left=0.125, right=1.0, bottom=0.3,\n",
    "                    top=0.9, wspace=2.0, hspace=3.0)\n",
    "\n",
    "# Population vs. Market Value\n",
    "ax1 = fig.add_subplot(321)\n",
    "plt.scatter(X[:, 0], y, c='r', marker='.')\n",
    "plt.title('Population vs. Median Market Value')\n",
    "plt.xlabel('Population')\n",
    "plt.ylabel('Median Market Value')\n",
    "\n",
    "# Households vs. Market Value\n",
    "ax2 = fig.add_subplot(322)\n",
    "plt.scatter(X[:, 1], y, c='y', marker='.')\n",
    "plt.title('Households vs. Median Market Value')\n",
    "plt.xlabel('Households')\n",
    "plt.ylabel('Median Market Value')\n",
    "\n",
    "# Units vs. Market Value\n",
    "ax3 = fig.add_subplot(323)\n",
    "plt.scatter(X[:, 2], y, marker='.')\n",
    "plt.title('Units vs. Median Market Value')\n",
    "plt.xlabel('Housing Units')\n",
    "plt.ylabel('Median Market Value')\n",
    "\n",
    "# Income vs. Market Value\n",
    "ax4 = fig.add_subplot(324)\n",
    "plt.scatter(X[:, 3], y, c='m', marker='.')\n",
    "plt.title('Income vs. Median Market Value')\n",
    "plt.xlabel('Median Household Income')\n",
    "plt.ylabel('Median Market Value')\n",
    "\n",
    "plt.tight_layout(pad=1, w_pad=1, h_pad=1);"
   ]
  },
  {
   "cell_type": "markdown",
   "metadata": {},
   "source": [
    "# Fitting Linear Regression Model"
   ]
  },
  {
   "cell_type": "markdown",
   "metadata": {},
   "source": [
    "For this project, a multivariate linear regression model will be reduced using backward elimination. "
   ]
  },
  {
   "cell_type": "code",
   "execution_count": 4,
   "metadata": {},
   "outputs": [
    {
     "data": {
      "text/html": [
       "<table class=\"simpletable\">\n",
       "<caption>OLS Regression Results</caption>\n",
       "<tr>\n",
       "  <th>Dep. Variable:</th>            <td>y</td>        <th>  R-squared:         </th> <td>   0.913</td>\n",
       "</tr>\n",
       "<tr>\n",
       "  <th>Model:</th>                   <td>OLS</td>       <th>  Adj. R-squared:    </th> <td>   0.898</td>\n",
       "</tr>\n",
       "<tr>\n",
       "  <th>Method:</th>             <td>Least Squares</td>  <th>  F-statistic:       </th> <td>   60.58</td>\n",
       "</tr>\n",
       "<tr>\n",
       "  <th>Date:</th>             <td>Sun, 21 Jul 2019</td> <th>  Prob (F-statistic):</th> <td>7.04e-12</td>\n",
       "</tr>\n",
       "<tr>\n",
       "  <th>Time:</th>                 <td>14:21:22</td>     <th>  Log-Likelihood:    </th> <td> -336.48</td>\n",
       "</tr>\n",
       "<tr>\n",
       "  <th>No. Observations:</th>      <td>    28</td>      <th>  AIC:               </th> <td>   683.0</td>\n",
       "</tr>\n",
       "<tr>\n",
       "  <th>Df Residuals:</th>          <td>    23</td>      <th>  BIC:               </th> <td>   689.6</td>\n",
       "</tr>\n",
       "<tr>\n",
       "  <th>Df Model:</th>              <td>     4</td>      <th>                     </th>     <td> </td>   \n",
       "</tr>\n",
       "<tr>\n",
       "  <th>Covariance Type:</th>      <td>nonrobust</td>    <th>                     </th>     <td> </td>   \n",
       "</tr>\n",
       "</table>\n",
       "<table class=\"simpletable\">\n",
       "<tr>\n",
       "    <td></td>       <th>coef</th>     <th>std err</th>      <th>t</th>      <th>P>|t|</th>  <th>[0.025</th>    <th>0.975]</th>  \n",
       "</tr>\n",
       "<tr>\n",
       "  <th>const</th> <td>-1.365e+06</td> <td> 1.35e+05</td> <td>  -10.112</td> <td> 0.000</td> <td>-1.64e+06</td> <td>-1.09e+06</td>\n",
       "</tr>\n",
       "<tr>\n",
       "  <th>x1</th>    <td>   -2.9785</td> <td>    1.020</td> <td>   -2.920</td> <td> 0.008</td> <td>   -5.088</td> <td>   -0.869</td>\n",
       "</tr>\n",
       "<tr>\n",
       "  <th>x2</th>    <td>  -18.9803</td> <td>    5.683</td> <td>   -3.340</td> <td> 0.003</td> <td>  -30.736</td> <td>   -7.225</td>\n",
       "</tr>\n",
       "<tr>\n",
       "  <th>x3</th>    <td>   31.1133</td> <td>    6.352</td> <td>    4.898</td> <td> 0.000</td> <td>   17.974</td> <td>   44.253</td>\n",
       "</tr>\n",
       "<tr>\n",
       "  <th>x4</th>    <td>    0.1183</td> <td>    0.952</td> <td>    0.124</td> <td> 0.902</td> <td>   -1.850</td> <td>    2.087</td>\n",
       "</tr>\n",
       "</table>\n",
       "<table class=\"simpletable\">\n",
       "<tr>\n",
       "  <th>Omnibus:</th>       <td> 2.314</td> <th>  Durbin-Watson:     </th> <td>   0.799</td>\n",
       "</tr>\n",
       "<tr>\n",
       "  <th>Prob(Omnibus):</th> <td> 0.314</td> <th>  Jarque-Bera (JB):  </th> <td>   1.267</td>\n",
       "</tr>\n",
       "<tr>\n",
       "  <th>Skew:</th>          <td> 0.153</td> <th>  Prob(JB):          </th> <td>   0.531</td>\n",
       "</tr>\n",
       "<tr>\n",
       "  <th>Kurtosis:</th>      <td> 2.004</td> <th>  Cond. No.          </th> <td>1.85e+07</td>\n",
       "</tr>\n",
       "</table><br/><br/>Warnings:<br/>[1] Standard Errors assume that the covariance matrix of the errors is correctly specified.<br/>[2] The condition number is large, 1.85e+07. This might indicate that there are<br/>strong multicollinearity or other numerical problems."
      ],
      "text/plain": [
       "<class 'statsmodels.iolib.summary.Summary'>\n",
       "\"\"\"\n",
       "                            OLS Regression Results                            \n",
       "==============================================================================\n",
       "Dep. Variable:                      y   R-squared:                       0.913\n",
       "Model:                            OLS   Adj. R-squared:                  0.898\n",
       "Method:                 Least Squares   F-statistic:                     60.58\n",
       "Date:                Sun, 21 Jul 2019   Prob (F-statistic):           7.04e-12\n",
       "Time:                        14:21:22   Log-Likelihood:                -336.48\n",
       "No. Observations:                  28   AIC:                             683.0\n",
       "Df Residuals:                      23   BIC:                             689.6\n",
       "Df Model:                           4                                         \n",
       "Covariance Type:            nonrobust                                         \n",
       "==============================================================================\n",
       "                 coef    std err          t      P>|t|      [0.025      0.975]\n",
       "------------------------------------------------------------------------------\n",
       "const      -1.365e+06   1.35e+05    -10.112      0.000   -1.64e+06   -1.09e+06\n",
       "x1            -2.9785      1.020     -2.920      0.008      -5.088      -0.869\n",
       "x2           -18.9803      5.683     -3.340      0.003     -30.736      -7.225\n",
       "x3            31.1133      6.352      4.898      0.000      17.974      44.253\n",
       "x4             0.1183      0.952      0.124      0.902      -1.850       2.087\n",
       "==============================================================================\n",
       "Omnibus:                        2.314   Durbin-Watson:                   0.799\n",
       "Prob(Omnibus):                  0.314   Jarque-Bera (JB):                1.267\n",
       "Skew:                           0.153   Prob(JB):                        0.531\n",
       "Kurtosis:                       2.004   Cond. No.                     1.85e+07\n",
       "==============================================================================\n",
       "\n",
       "Warnings:\n",
       "[1] Standard Errors assume that the covariance matrix of the errors is correctly specified.\n",
       "[2] The condition number is large, 1.85e+07. This might indicate that there are\n",
       "strong multicollinearity or other numerical problems.\n",
       "\"\"\""
      ]
     },
     "execution_count": 4,
     "metadata": {},
     "output_type": "execute_result"
    }
   ],
   "source": [
    "import statsmodels.formula.api as sm\n",
    "\n",
    "# Appending constant term\n",
    "X = np.append(arr=np.ones((28, 1)).astype(int), values=X, axis=1)\n",
    "\n",
    "# Model with all input variables\n",
    "optim_X = X[:, [0, 1, 2, 3, 4]]\n",
    "reg_OLS = sm.OLS(endog=y, exog=optim_X).fit()\n",
    "reg_OLS.summary()"
   ]
  },
  {
   "cell_type": "markdown",
   "metadata": {},
   "source": [
    "From the results above, the variable that had the least statistical significance upon the median market value was the median household income, with a p-value of 0.902, so that will be removed. "
   ]
  },
  {
   "cell_type": "code",
   "execution_count": 5,
   "metadata": {},
   "outputs": [
    {
     "data": {
      "text/html": [
       "<table class=\"simpletable\">\n",
       "<caption>OLS Regression Results</caption>\n",
       "<tr>\n",
       "  <th>Dep. Variable:</th>            <td>y</td>        <th>  R-squared:         </th> <td>   0.913</td>\n",
       "</tr>\n",
       "<tr>\n",
       "  <th>Model:</th>                   <td>OLS</td>       <th>  Adj. R-squared:    </th> <td>   0.902</td>\n",
       "</tr>\n",
       "<tr>\n",
       "  <th>Method:</th>             <td>Least Squares</td>  <th>  F-statistic:       </th> <td>   84.22</td>\n",
       "</tr>\n",
       "<tr>\n",
       "  <th>Date:</th>             <td>Sun, 21 Jul 2019</td> <th>  Prob (F-statistic):</th> <td>7.02e-13</td>\n",
       "</tr>\n",
       "<tr>\n",
       "  <th>Time:</th>                 <td>14:21:22</td>     <th>  Log-Likelihood:    </th> <td> -336.49</td>\n",
       "</tr>\n",
       "<tr>\n",
       "  <th>No. Observations:</th>      <td>    28</td>      <th>  AIC:               </th> <td>   681.0</td>\n",
       "</tr>\n",
       "<tr>\n",
       "  <th>Df Residuals:</th>          <td>    24</td>      <th>  BIC:               </th> <td>   686.3</td>\n",
       "</tr>\n",
       "<tr>\n",
       "  <th>Df Model:</th>              <td>     3</td>      <th>                     </th>     <td> </td>   \n",
       "</tr>\n",
       "<tr>\n",
       "  <th>Covariance Type:</th>      <td>nonrobust</td>    <th>                     </th>     <td> </td>   \n",
       "</tr>\n",
       "</table>\n",
       "<table class=\"simpletable\">\n",
       "<tr>\n",
       "    <td></td>       <th>coef</th>     <th>std err</th>      <th>t</th>      <th>P>|t|</th>  <th>[0.025</th>    <th>0.975]</th>  \n",
       "</tr>\n",
       "<tr>\n",
       "  <th>const</th> <td>-1.372e+06</td> <td> 1.19e+05</td> <td>  -11.581</td> <td> 0.000</td> <td>-1.62e+06</td> <td>-1.13e+06</td>\n",
       "</tr>\n",
       "<tr>\n",
       "  <th>x1</th>    <td>   -2.9892</td> <td>    0.995</td> <td>   -3.004</td> <td> 0.006</td> <td>   -5.043</td> <td>   -0.935</td>\n",
       "</tr>\n",
       "<tr>\n",
       "  <th>x2</th>    <td>  -19.1967</td> <td>    5.297</td> <td>   -3.624</td> <td> 0.001</td> <td>  -30.129</td> <td>   -8.264</td>\n",
       "</tr>\n",
       "<tr>\n",
       "  <th>x3</th>    <td>   31.4029</td> <td>    5.786</td> <td>    5.427</td> <td> 0.000</td> <td>   19.461</td> <td>   43.345</td>\n",
       "</tr>\n",
       "</table>\n",
       "<table class=\"simpletable\">\n",
       "<tr>\n",
       "  <th>Omnibus:</th>       <td> 2.328</td> <th>  Durbin-Watson:     </th> <td>   0.811</td>\n",
       "</tr>\n",
       "<tr>\n",
       "  <th>Prob(Omnibus):</th> <td> 0.312</td> <th>  Jarque-Bera (JB):  </th> <td>   1.252</td>\n",
       "</tr>\n",
       "<tr>\n",
       "  <th>Skew:</th>          <td> 0.132</td> <th>  Prob(JB):          </th> <td>   0.535</td>\n",
       "</tr>\n",
       "<tr>\n",
       "  <th>Kurtosis:</th>      <td> 1.998</td> <th>  Cond. No.          </th> <td>1.65e+07</td>\n",
       "</tr>\n",
       "</table><br/><br/>Warnings:<br/>[1] Standard Errors assume that the covariance matrix of the errors is correctly specified.<br/>[2] The condition number is large, 1.65e+07. This might indicate that there are<br/>strong multicollinearity or other numerical problems."
      ],
      "text/plain": [
       "<class 'statsmodels.iolib.summary.Summary'>\n",
       "\"\"\"\n",
       "                            OLS Regression Results                            \n",
       "==============================================================================\n",
       "Dep. Variable:                      y   R-squared:                       0.913\n",
       "Model:                            OLS   Adj. R-squared:                  0.902\n",
       "Method:                 Least Squares   F-statistic:                     84.22\n",
       "Date:                Sun, 21 Jul 2019   Prob (F-statistic):           7.02e-13\n",
       "Time:                        14:21:22   Log-Likelihood:                -336.49\n",
       "No. Observations:                  28   AIC:                             681.0\n",
       "Df Residuals:                      24   BIC:                             686.3\n",
       "Df Model:                           3                                         \n",
       "Covariance Type:            nonrobust                                         \n",
       "==============================================================================\n",
       "                 coef    std err          t      P>|t|      [0.025      0.975]\n",
       "------------------------------------------------------------------------------\n",
       "const      -1.372e+06   1.19e+05    -11.581      0.000   -1.62e+06   -1.13e+06\n",
       "x1            -2.9892      0.995     -3.004      0.006      -5.043      -0.935\n",
       "x2           -19.1967      5.297     -3.624      0.001     -30.129      -8.264\n",
       "x3            31.4029      5.786      5.427      0.000      19.461      43.345\n",
       "==============================================================================\n",
       "Omnibus:                        2.328   Durbin-Watson:                   0.811\n",
       "Prob(Omnibus):                  0.312   Jarque-Bera (JB):                1.252\n",
       "Skew:                           0.132   Prob(JB):                        0.535\n",
       "Kurtosis:                       1.998   Cond. No.                     1.65e+07\n",
       "==============================================================================\n",
       "\n",
       "Warnings:\n",
       "[1] Standard Errors assume that the covariance matrix of the errors is correctly specified.\n",
       "[2] The condition number is large, 1.65e+07. This might indicate that there are\n",
       "strong multicollinearity or other numerical problems.\n",
       "\"\"\""
      ]
     },
     "execution_count": 5,
     "metadata": {},
     "output_type": "execute_result"
    }
   ],
   "source": [
    "# Model with median income removed\n",
    "optim_X = X[:, [0, 1, 2, 3]]\n",
    "reg_OLS = sm.OLS(endog=y, exog=optim_X).fit()\n",
    "reg_OLS.summary()"
   ]
  },
  {
   "cell_type": "markdown",
   "metadata": {},
   "source": [
    "All the remaining input variables seem to have a high significance to our output variable, with all having p-value less than 0.01. We have now narrowed the input variables with the highest statistical significance to our output to be the the population, the number of households, and the number of housing units, and have built our optimal dataset. Now we will split up our data into training and testing sets and train our linear regression model on the former."
   ]
  },
  {
   "cell_type": "code",
   "execution_count": 9,
   "metadata": {},
   "outputs": [],
   "source": [
    "from sklearn.model_selection import train_test_split\n",
    "from sklearn.linear_model import LinearRegression\n",
    "\n",
    "# Splitting the data into training and testing sets\n",
    "X_train, X_test, y_train, y_test = train_test_split(optim_X, y, test_size=1/3)\n",
    "\n",
    "# Fitting Linear Regression model to training set\n",
    "lin_reg = LinearRegression()\n",
    "lin_reg.fit(X_train, y_train)\n",
    "\n",
    "# Training model on testing set\n",
    "y_pred = lin_reg.predict(X_test);"
   ]
  },
  {
   "cell_type": "markdown",
   "metadata": {},
   "source": [
    "# Results"
   ]
  },
  {
   "cell_type": "markdown",
   "metadata": {},
   "source": [
    "We will use the mean absolute error to evaluate the error of our model. "
   ]
  },
  {
   "cell_type": "code",
   "execution_count": 15,
   "metadata": {},
   "outputs": [
    {
     "name": "stdout",
     "output_type": "stream",
     "text": [
      "[36100.71]\n"
     ]
    }
   ],
   "source": [
    "from sklearn.metrics import mean_absolute_error\n",
    "\n",
    "# Calculating Mean Absolute Error\n",
    "err = mean_absolute_error(y_test, y_pred, multioutput = 'raw_values')\n",
    "print(err)"
   ]
  },
  {
   "cell_type": "markdown",
   "metadata": {},
   "source": [
    "So we get a MAE of about $36,100, which is not the best but it is good enough given the small size of the data we have. We might have a problem of underfitting for this model, which could remedied by adding more features or getting more data for our training set. Below is a visual representation of the actual vs. predicted values for the test set."
   ]
  },
  {
   "cell_type": "code",
   "execution_count": 21,
   "metadata": {},
   "outputs": [
    {
     "data": {
      "image/png": "[encoded data removed]",
      "text/plain": [
       "<Figure size 432x396 with 1 Axes>"
      ]
     },
     "metadata": {
      "needs_background": "light"
     },
     "output_type": "display_data"
    }
   ],
   "source": [
    "%matplotlib inline\n",
    "\n",
    "fig = plt.figure(figsize=(6, 5.5))\n",
    "\n",
    "# Actual vs Predicted Values\n",
    "ax = fig.add_subplot(111)\n",
    "plt.scatter(y_test, y_pred)\n",
    "plt.title('Actual vs. Predicted Values for Test Set')\n",
    "plt.xlabel('Actual')\n",
    "plt.ylabel('Predicted')\n",
    "plt.plot(np.unique(y_test), np.poly1d(\n",
    "    np.polyfit(y_test, y_pred, 1))(np.unique(y_test)));"
   ]
  },
  {
   "cell_type": "markdown",
   "metadata": {},
   "source": [
    "And now for an example, we will predict the value of a house in the year 2040 using the Fairfax County government's estimates of population, number of housholds, and number of housing units."
   ]
  },
  {
   "cell_type": "code",
   "execution_count": 26,
   "metadata": {},
   "outputs": [
    {
     "name": "stdout",
     "output_type": "stream",
     "text": [
      "$1,026,859.10\n"
     ]
    }
   ],
   "source": [
    "print('${:,.2f}'.format(lin_reg.predict([[1,1363400, 503900, 516404]])[0]))"
   ]
  },
  {
   "cell_type": "markdown",
   "metadata": {},
   "source": [
    "# Conclusion"
   ]
  },
  {
   "cell_type": "markdown",
   "metadata": {},
   "source": [
    "With a predicted median housing value reaching $1 million within the year 2040, it can be said that current Fairfax County residents should be very happy at the prospects of selling their homes in the future and getting a hefty return. Although it should also be said that the size of this dataset was quite small, so the collection of annual data will prove to be very useful for more accurate predictions of the future market."
   ]
  }
 ],
 "metadata": {
  "hide_input": false,
  "kernelspec": {
   "display_name": "Python 3",
   "language": "python",
   "name": "python3"
  },
  "language_info": {
   "codemirror_mode": {
    "name": "ipython",
    "version": 3
   },
   "file_extension": ".py",
   "mimetype": "text/x-python",
   "name": "python",
   "nbconvert_exporter": "python",
   "pygments_lexer": "ipython3",
   "version": "3.7.3"
  },
  "toc": {
   "base_numbering": 1,
   "nav_menu": {},
   "number_sections": true,
   "sideBar": true,
   "skip_h1_title": false,
   "title_cell": "Table of Contents",
   "title_sidebar": "Contents",
   "toc_cell": false,
   "toc_position": {},
   "toc_section_display": true,
   "toc_window_display": false
  },
  "varInspector": {
   "cols": {
    "lenName": 16,
    "lenType": 16,
    "lenVar": 40
   },
   "kernels_config": {
    "python": {
     "delete_cmd_postfix": "",
     "delete_cmd_prefix": "del ",
     "library": "var_list.py",
     "varRefreshCmd": "print(var_dic_list())"
    },
    "r": {
     "delete_cmd_postfix": ") ",
     "delete_cmd_prefix": "rm(",
     "library": "var_list.r",
     "varRefreshCmd": "cat(var_dic_list()) "
    }
   },
   "position": {
    "height": "372.417px",
    "left": "966.433px",
    "right": "20px",
    "top": "118px",
    "width": "391.133px"
   },
   "types_to_exclude": [
    "module",
    "function",
    "builtin_function_or_method",
    "instance",
    "_Feature"
   ],
   "window_display": false
  }
 },
 "nbformat": 4,
 "nbformat_minor": 2
}
